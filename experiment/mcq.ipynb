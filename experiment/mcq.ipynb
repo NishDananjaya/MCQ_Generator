{
 "cells": [
  {
   "cell_type": "code",
   "execution_count": 3,
   "metadata": {},
   "outputs": [],
   "source": [
    "import os\n",
    "import json\n",
    "import pandas as pd\n",
    "import traceback\n"
   ]
  },
  {
   "cell_type": "code",
   "execution_count": 4,
   "metadata": {},
   "outputs": [
    {
     "data": {
      "text/plain": [
       "True"
      ]
     },
     "execution_count": 4,
     "metadata": {},
     "output_type": "execute_result"
    }
   ],
   "source": [
    "from dotenv import load_dotenv\n",
    "load_dotenv()"
   ]
  },
  {
   "cell_type": "code",
   "execution_count": 5,
   "metadata": {},
   "outputs": [],
   "source": [
    "KEY = os.getenv(\"GOOGLE_API_KEY\")"
   ]
  },
  {
   "cell_type": "code",
   "execution_count": 6,
   "metadata": {},
   "outputs": [],
   "source": [
    "from langchain_google_genai import ChatGoogleGenerativeAI\n",
    "\n",
    "llm = ChatGoogleGenerativeAI(model=\"gemini-1.5-pro\", google_api_key=KEY)"
   ]
  },
  {
   "cell_type": "code",
   "execution_count": 7,
   "metadata": {},
   "outputs": [
    {
     "data": {
      "text/plain": [
       "ChatGoogleGenerativeAI(model='models/gemini-1.5-pro', google_api_key=SecretStr('**********'), client=<google.ai.generativelanguage_v1beta.services.generative_service.client.GenerativeServiceClient object at 0x000002A31638BA30>, async_client=<google.ai.generativelanguage_v1beta.services.generative_service.async_client.GenerativeServiceAsyncClient object at 0x000002A31640F340>, default_metadata=())"
      ]
     },
     "execution_count": 7,
     "metadata": {},
     "output_type": "execute_result"
    }
   ],
   "source": [
    "llm"
   ]
  },
  {
   "cell_type": "code",
   "execution_count": 8,
   "metadata": {},
   "outputs": [],
   "source": [
    "from langchain.chat_models import ChatGooglePalm\n",
    "from langchain.prompts import PromptTemplate\n",
    "from langchain.chains import LLMChain\n",
    "from langchain.chains import SequentialChain\n",
    "import PyPDF2"
   ]
  },
  {
   "cell_type": "code",
   "execution_count": 9,
   "metadata": {},
   "outputs": [],
   "source": [
    "RESPONSE_JSON = {\n",
    "    \"1\": {\n",
    "        \"mcq\": \"multiple choice question\",\n",
    "        \"options\": {\n",
    "            \"a\": \"choice here\",\n",
    "            \"b\": \"choice here\",\n",
    "            \"c\": \"choice here\",\n",
    "            \"d\": \"choice here\",\n",
    "        },\n",
    "        \"correct\": \"correct answer\"\n",
    "    },\n",
    "    \"2\": {\n",
    "        \"mcq\": \"multiple choice question\",\n",
    "        \"options\": {\n",
    "            \"a\": \"choice here\",\n",
    "            \"b\": \"choice here\",\n",
    "            \"c\": \"choice here\",\n",
    "            \"d\": \"choice here\",\n",
    "        },\n",
    "        \"correct\": \"correct answer\"\n",
    "    },\n",
    "    \"3\": {\n",
    "        \"mcq\": \"multiple choice question\",\n",
    "        \"options\": {\n",
    "            \"a\": \"choice here\",\n",
    "            \"b\": \"choice here\",\n",
    "            \"c\": \"choice here\",\n",
    "            \"d\": \"choice here\",\n",
    "        },\n",
    "        \"correct\": \"correct answer\"\n",
    "    }\n",
    "}"
   ]
  },
  {
   "cell_type": "code",
   "execution_count": 10,
   "metadata": {},
   "outputs": [],
   "source": [
    "TEMPLATE = \"\"\"\n",
    "Text:{text}\n",
    "You are an expert mcq maker. Given above the text, it is your job to \\\n",
    "create a quiz of {number} multiple questions for {subject} students in {tone} tone.\n",
    "Make sure to format your response like RESPONSE_JSON below and use it as guide.\\\n",
    "Ensure to make {number} MCQs\n",
    "### RESPONSE_JSON\n",
    "{response_json}\n",
    "\n",
    "\"\"\""
   ]
  },
  {
   "cell_type": "code",
   "execution_count": 11,
   "metadata": {},
   "outputs": [],
   "source": [
    "quiz_generation_prompt = PromptTemplate(\n",
    "    input_variables=[\"text\", \"number\",\"subject\",\"tone\",\"response_json\"],\n",
    "    template=TEMPLATE\n",
    ")"
   ]
  },
  {
   "cell_type": "code",
   "execution_count": 12,
   "metadata": {},
   "outputs": [
    {
     "name": "stderr",
     "output_type": "stream",
     "text": [
      "d:\\Projects\\MCQ_Generator\\env310\\lib\\site-packages\\langchain_core\\_api\\deprecation.py:139: LangChainDeprecationWarning: The class `LLMChain` was deprecated in LangChain 0.1.17 and will be removed in 1.0. Use RunnableSequence, e.g., `prompt | llm` instead.\n",
      "  warn_deprecated(\n"
     ]
    }
   ],
   "source": [
    "quiz_chain = LLMChain(llm = llm, prompt = quiz_generation_prompt,output_key=\"quiz\",verbose=True)"
   ]
  },
  {
   "cell_type": "code",
   "execution_count": 13,
   "metadata": {},
   "outputs": [],
   "source": [
    "TEMPLATE2 = \"\"\"\n",
    "You are an expert grammerian and writer. Given a multiple choice question for {subject} students.\\\n",
    "you need to evaluate the complexicity of the question and give a complete analysis of the quiz. only use at max 50 words for complexicity\n",
    "if the quiz is not at par with the cognitive and analytical abilities of the student,\\\n",
    "update the quiz questions which needs to be changed and the change the tone such that it perfectly fit the students ability.\\\n",
    "Quiz_MCQs:\n",
    "{quiz}\n",
    "\n",
    "Check from an expert English writer of the above quiz:\n",
    "\"\"\""
   ]
  },
  {
   "cell_type": "code",
   "execution_count": 14,
   "metadata": {},
   "outputs": [],
   "source": [
    "quiz_evaluation_prompt = PromptTemplate(\n",
    "    input_variables=[\"subject\",\"quiz\"],\n",
    "    template=TEMPLATE2\n",
    ")"
   ]
  },
  {
   "cell_type": "code",
   "execution_count": 15,
   "metadata": {},
   "outputs": [],
   "source": [
    "review_chain = LLMChain(llm=llm, prompt=quiz_evaluation_prompt,output_key=\"review\",verbose=True)"
   ]
  },
  {
   "cell_type": "code",
   "execution_count": 16,
   "metadata": {},
   "outputs": [],
   "source": [
    "generate_evaluate_chain = SequentialChain(\n",
    "    chains = [quiz_chain,review_chain],\n",
    "    input_variables = [\"text\", \"number\",\"subject\",\"tone\",\"response_json\"],\n",
    "    output_variables = [\"quiz\",\"review\"],\n",
    "    verbose = True\n",
    ")"
   ]
  },
  {
   "cell_type": "code",
   "execution_count": 33,
   "metadata": {},
   "outputs": [],
   "source": [
    "file_path = 'D:\\Projects\\MCQ_Generator\\data.txt'"
   ]
  },
  {
   "cell_type": "code",
   "execution_count": 34,
   "metadata": {},
   "outputs": [],
   "source": [
    "with open(file_path,'r') as file:\n",
    "    TEXT = file.read()"
   ]
  },
  {
   "cell_type": "code",
   "execution_count": 35,
   "metadata": {},
   "outputs": [
    {
     "name": "stdout",
     "output_type": "stream",
     "text": [
      "The term machine learning was coined in 1959 by Arthur Samuel, an IBM employee and pioneer in the field of computer gaming and artificial intelligence.[8][9] The synonym self-teaching computers was also used in this time period.[10][11]\n",
      "\n",
      "Although the earliest machine learning model was introduced in the 1950s when Arthur Samuel invented a program that calculated the winning chance in checkers for each side, the history of machine learning roots back to decades of human desire and effort to study human cognitive processes.[12] In 1949, Canadian psychologist Donald Hebb published the book The Organization of Behavior, in which he introduced a theoretical neural structure formed by certain interactions among nerve cells.[13] Hebb's model of neurons interacting with one another set a groundwork for how AIs and machine learning algorithms work under nodes, or artificial neurons used by computers to communicate data.[12] Other researchers who have studied human cognitive systems contributed to the modern machine learning technologies as well, including logician Walter Pitts and Warren McCulloch, who proposed the early mathematical models of neural networks to come up with algorithms that mirror human thought processes.[12]\n",
      "\n",
      "By the early 1960s an experimental \"learning machine\" with punched tape memory, called Cybertron, had been developed by Raytheon Company to analyze sonar signals, electrocardiograms, and speech patterns using rudimentary reinforcement learning. It was repetitively \"trained\" by a human operator/teacher to recognize patterns and equipped with a \"goof\" button to cause it to reevaluate incorrect decisions.[14] A representative book on research into machine learning during the 1960s was Nilsson's book on Learning Machines, dealing mostly with machine learning for pattern classification.[15] Interest related to pattern recognition continued into the 1970s, as described by Duda and Hart in 1973.[16] In 1981 a report was given on using teaching strategies so that an artificial neural network learns to recognize 40 characters (26 letters, 10 digits, and 4 special symbols) from a computer terminal.[17]\n",
      "\n",
      "Tom M. Mitchell provided a widely quoted, more formal definition of the algorithms studied in the machine learning field: \"A computer program is said to learn from experience E with respect to some class of tasks T and performance measure P if its performance at tasks in T, as measured by P, improves with experience E.\"[18] This definition of the tasks in which machine learning is concerned offers a fundamentally operational definition rather than defining the field in cognitive terms. This follows Alan Turing's proposal in his paper \"Computing Machinery and Intelligence\", in which the question \"Can machines think?\" is replaced with the question \"Can machines do what we (as thinking entities) can do?\".[19]\n",
      "\n",
      "Modern-day machine learning has two objectives. One is to classify data based on models which have been developed; the other purpose is to make predictions for future outcomes based on these models. A hypothetical algorithm specific to classifying data may use computer vision of moles coupled with supervised learning in order to train it to classify the cancerous moles. A machine learning algorithm for stock trading may inform the trader of future potential predictions.[20]\n",
      "\n",
      "\n",
      "\n",
      "\n",
      "Electronic engineering is a sub-discipline of electrical engineering that emerged in the early 20th century and is distinguished by the additional use of active components such as semiconductor devices to amplify and control electric current flow. Previously electrical engineering only used passive devices such as mechanical switches, resistors, inductors, and capacitors.\n",
      "\n",
      "It covers fields such as analog electronics, digital electronics, consumer electronics, embedded systems and power electronics. It is also involved in many related fields, for example solid-state physics, radio engineering, telecommunications, control systems, signal processing, systems engineering, computer engineering, instrumentation engineering, electric power control, photonics and robotics.\n",
      "\n",
      "The Institute of Electrical and Electronics Engineers (IEEE) is one of the most important professional bodies for electronics engineers in the US; the equivalent body in the UK is the Institution of Engineering and Technology (IET). The International Electrotechnical Commission (IEC) publishes electrical standards including those for electronics engineering.\n",
      "\n",
      "History and development\n",
      "Main article: History of electronic engineering\n",
      "Main article: Electronics\n",
      "Electronics engineering as a profession emerged following the identification of the electron in 1897 and the subsequent invention of the vacuum tube which could amplify and rectify small electrical signals, that inaugurated the field of electronics.[1] Practical applications started with the invention of the diode by Ambrose Fleming and the triode by Lee De Forest in the early 1900s, which made the detection of small electrical voltages such as radio signals from a radio antenna possible with a non-mechanical device. The growth of electronics was rapid. By the early 1920s, commercial radio broadcasting and communications were becoming widespread and electronic amplifiers were being used in such diverse applications as long-distance telephony and the music recording industry.\n",
      "\n",
      "The discipline was further enhanced by the large amount of electronic systems development during World War II in such as radar and sonar, and the subsequent peace-time consumer revolution following the invention of transistor by William Shockley, John Bardeen and Walter Brattain.\n",
      "\n",
      "Specialist areas\n",
      "Electronics engineering has many subfields. This section describes some of the most popular.\n",
      "\n",
      "Electronic signal processing deals with the analysis and manipulation of signals. Signals can be either analog, in which case the signal varies continuously according to the information, or digital, in which case the signal varies according to a series of discrete values representing the information.\n",
      "\n",
      "For analog signals, signal processing may involve the amplification and filtering of audio signals for audio equipment and the modulation and demodulation of radio frequency signals for telecommunications. For digital signals, signal processing may involve compression, error checking and error detection, and correction.\n",
      "\n",
      "Telecommunications engineering deals with the transmission of information across a medium such as a co-axial cable, an optical fiber, or free space. Transmissions across free space require information to be encoded in a carrier wave in order to be transmitted, this is known as modulation. Popular analog modulation techniques include amplitude modulation and frequency modulation.\n",
      "\n",
      "Once the transmission characteristics of a system are determined, telecommunication engineers design the transmitters and receivers needed for such systems. These two are sometimes combined to form a two-way communication device known as a transceiver. A key consideration in the design of transmitters is their power consumption as this is closely related to their signal strength. If the signal strength of a transmitter is insufficient the signal's information will be corrupted by noise.\n",
      "\n",
      "Aviation-electronics engineering and Aviation-telecommunications engineering, are concerned with aerospace applications. Aviation-telecommunication engineers include specialists who work on airborne avionics in the aircraft or ground equipment. Specialists in this field mainly need knowledge of computer, networking, IT, and sensors. These courses are offered at such as Civil Aviation Technology Colleges.[2][3]\n",
      "\n",
      "Control engineering has a wide range of electronic applications from the flight and propulsion systems of commercial airplanes to the cruise control present in many modern cars. It also plays an important role in industrial automation. Control engineers often use feedback when designing control systems.\n",
      "\n",
      "Instrumentation engineering deals with the design of devices to measure physical quantities such as pressure, flow, and temperature.The design of such instrumentation requires a good understanding of electronics engineering and physics; for example, radar guns use the Doppler effect to measure the speed of oncoming vehicles. Similarly, thermocouples use the Peltier–Seebeck effect to measure the temperature difference between two points.\n",
      "\n",
      "Often instrumentation is not used by itself, but instead as the sensors of larger electrical systems. For example, a thermocouple might be used to help ensure a furnace's temperature remains constant. For this reason, instrumentation engineering is often viewed as the counterpart of control engineering.[4]\n",
      "\n",
      "Computer engineering deals with the design of computers and computer systems. This may involve the design of new computer hardware, the design of PDAs or the use of computers to control an industrial plant. Development of embedded systems—systems made for specific tasks (e.g., mobile phones)—is also included in this field. This field includes the microcontroller and its applications. Computer engineers may also work on a system's software. However, the design of complex software systems is often the domain of software engineering which falls under computer science, which is usually considered a separate discipline.\n",
      "\n",
      "VLSI design engineering VLSI stands for very large-scale integration. It deals with fabrication of ICs and various electronic components. In designing an integrated circuit, electronics engineers first construct circuit schematics that specify the electrical components and describe the interconnections between them. When completed, VLSI engineers convert the schematics into actual layouts, which map the layers of various conductor and semiconductor materials needed to construct the circuit.\n"
     ]
    }
   ],
   "source": [
    "print(TEXT)"
   ]
  },
  {
   "cell_type": "code",
   "execution_count": 36,
   "metadata": {},
   "outputs": [
    {
     "data": {
      "text/plain": [
       "'{\"1\": {\"mcq\": \"multiple choice question\", \"options\": {\"a\": \"choice here\", \"b\": \"choice here\", \"c\": \"choice here\", \"d\": \"choice here\"}, \"correct\": \"correct answer\"}, \"2\": {\"mcq\": \"multiple choice question\", \"options\": {\"a\": \"choice here\", \"b\": \"choice here\", \"c\": \"choice here\", \"d\": \"choice here\"}, \"correct\": \"correct answer\"}, \"3\": {\"mcq\": \"multiple choice question\", \"options\": {\"a\": \"choice here\", \"b\": \"choice here\", \"c\": \"choice here\", \"d\": \"choice here\"}, \"correct\": \"correct answer\"}}'"
      ]
     },
     "execution_count": 36,
     "metadata": {},
     "output_type": "execute_result"
    }
   ],
   "source": [
    "json.dumps(RESPONSE_JSON)"
   ]
  },
  {
   "cell_type": "code",
   "execution_count": 37,
   "metadata": {},
   "outputs": [],
   "source": [
    "NUMBER = 5\n",
    "SUBJECT = \"electronic engineering\"\n",
    "TONE = \"tough\""
   ]
  },
  {
   "cell_type": "code",
   "execution_count": 38,
   "metadata": {},
   "outputs": [
    {
     "name": "stdout",
     "output_type": "stream",
     "text": [
      "\n",
      "\n",
      "\u001b[1m> Entering new SequentialChain chain...\u001b[0m\n",
      "\n",
      "\n",
      "\u001b[1m> Entering new LLMChain chain...\u001b[0m\n",
      "Prompt after formatting:\n",
      "\u001b[32;1m\u001b[1;3m\n",
      "Text:The term machine learning was coined in 1959 by Arthur Samuel, an IBM employee and pioneer in the field of computer gaming and artificial intelligence.[8][9] The synonym self-teaching computers was also used in this time period.[10][11]\n",
      "\n",
      "Although the earliest machine learning model was introduced in the 1950s when Arthur Samuel invented a program that calculated the winning chance in checkers for each side, the history of machine learning roots back to decades of human desire and effort to study human cognitive processes.[12] In 1949, Canadian psychologist Donald Hebb published the book The Organization of Behavior, in which he introduced a theoretical neural structure formed by certain interactions among nerve cells.[13] Hebb's model of neurons interacting with one another set a groundwork for how AIs and machine learning algorithms work under nodes, or artificial neurons used by computers to communicate data.[12] Other researchers who have studied human cognitive systems contributed to the modern machine learning technologies as well, including logician Walter Pitts and Warren McCulloch, who proposed the early mathematical models of neural networks to come up with algorithms that mirror human thought processes.[12]\n",
      "\n",
      "By the early 1960s an experimental \"learning machine\" with punched tape memory, called Cybertron, had been developed by Raytheon Company to analyze sonar signals, electrocardiograms, and speech patterns using rudimentary reinforcement learning. It was repetitively \"trained\" by a human operator/teacher to recognize patterns and equipped with a \"goof\" button to cause it to reevaluate incorrect decisions.[14] A representative book on research into machine learning during the 1960s was Nilsson's book on Learning Machines, dealing mostly with machine learning for pattern classification.[15] Interest related to pattern recognition continued into the 1970s, as described by Duda and Hart in 1973.[16] In 1981 a report was given on using teaching strategies so that an artificial neural network learns to recognize 40 characters (26 letters, 10 digits, and 4 special symbols) from a computer terminal.[17]\n",
      "\n",
      "Tom M. Mitchell provided a widely quoted, more formal definition of the algorithms studied in the machine learning field: \"A computer program is said to learn from experience E with respect to some class of tasks T and performance measure P if its performance at tasks in T, as measured by P, improves with experience E.\"[18] This definition of the tasks in which machine learning is concerned offers a fundamentally operational definition rather than defining the field in cognitive terms. This follows Alan Turing's proposal in his paper \"Computing Machinery and Intelligence\", in which the question \"Can machines think?\" is replaced with the question \"Can machines do what we (as thinking entities) can do?\".[19]\n",
      "\n",
      "Modern-day machine learning has two objectives. One is to classify data based on models which have been developed; the other purpose is to make predictions for future outcomes based on these models. A hypothetical algorithm specific to classifying data may use computer vision of moles coupled with supervised learning in order to train it to classify the cancerous moles. A machine learning algorithm for stock trading may inform the trader of future potential predictions.[20]\n",
      "\n",
      "\n",
      "\n",
      "\n",
      "Electronic engineering is a sub-discipline of electrical engineering that emerged in the early 20th century and is distinguished by the additional use of active components such as semiconductor devices to amplify and control electric current flow. Previously electrical engineering only used passive devices such as mechanical switches, resistors, inductors, and capacitors.\n",
      "\n",
      "It covers fields such as analog electronics, digital electronics, consumer electronics, embedded systems and power electronics. It is also involved in many related fields, for example solid-state physics, radio engineering, telecommunications, control systems, signal processing, systems engineering, computer engineering, instrumentation engineering, electric power control, photonics and robotics.\n",
      "\n",
      "The Institute of Electrical and Electronics Engineers (IEEE) is one of the most important professional bodies for electronics engineers in the US; the equivalent body in the UK is the Institution of Engineering and Technology (IET). The International Electrotechnical Commission (IEC) publishes electrical standards including those for electronics engineering.\n",
      "\n",
      "History and development\n",
      "Main article: History of electronic engineering\n",
      "Main article: Electronics\n",
      "Electronics engineering as a profession emerged following the identification of the electron in 1897 and the subsequent invention of the vacuum tube which could amplify and rectify small electrical signals, that inaugurated the field of electronics.[1] Practical applications started with the invention of the diode by Ambrose Fleming and the triode by Lee De Forest in the early 1900s, which made the detection of small electrical voltages such as radio signals from a radio antenna possible with a non-mechanical device. The growth of electronics was rapid. By the early 1920s, commercial radio broadcasting and communications were becoming widespread and electronic amplifiers were being used in such diverse applications as long-distance telephony and the music recording industry.\n",
      "\n",
      "The discipline was further enhanced by the large amount of electronic systems development during World War II in such as radar and sonar, and the subsequent peace-time consumer revolution following the invention of transistor by William Shockley, John Bardeen and Walter Brattain.\n",
      "\n",
      "Specialist areas\n",
      "Electronics engineering has many subfields. This section describes some of the most popular.\n",
      "\n",
      "Electronic signal processing deals with the analysis and manipulation of signals. Signals can be either analog, in which case the signal varies continuously according to the information, or digital, in which case the signal varies according to a series of discrete values representing the information.\n",
      "\n",
      "For analog signals, signal processing may involve the amplification and filtering of audio signals for audio equipment and the modulation and demodulation of radio frequency signals for telecommunications. For digital signals, signal processing may involve compression, error checking and error detection, and correction.\n",
      "\n",
      "Telecommunications engineering deals with the transmission of information across a medium such as a co-axial cable, an optical fiber, or free space. Transmissions across free space require information to be encoded in a carrier wave in order to be transmitted, this is known as modulation. Popular analog modulation techniques include amplitude modulation and frequency modulation.\n",
      "\n",
      "Once the transmission characteristics of a system are determined, telecommunication engineers design the transmitters and receivers needed for such systems. These two are sometimes combined to form a two-way communication device known as a transceiver. A key consideration in the design of transmitters is their power consumption as this is closely related to their signal strength. If the signal strength of a transmitter is insufficient the signal's information will be corrupted by noise.\n",
      "\n",
      "Aviation-electronics engineering and Aviation-telecommunications engineering, are concerned with aerospace applications. Aviation-telecommunication engineers include specialists who work on airborne avionics in the aircraft or ground equipment. Specialists in this field mainly need knowledge of computer, networking, IT, and sensors. These courses are offered at such as Civil Aviation Technology Colleges.[2][3]\n",
      "\n",
      "Control engineering has a wide range of electronic applications from the flight and propulsion systems of commercial airplanes to the cruise control present in many modern cars. It also plays an important role in industrial automation. Control engineers often use feedback when designing control systems.\n",
      "\n",
      "Instrumentation engineering deals with the design of devices to measure physical quantities such as pressure, flow, and temperature.The design of such instrumentation requires a good understanding of electronics engineering and physics; for example, radar guns use the Doppler effect to measure the speed of oncoming vehicles. Similarly, thermocouples use the Peltier–Seebeck effect to measure the temperature difference between two points.\n",
      "\n",
      "Often instrumentation is not used by itself, but instead as the sensors of larger electrical systems. For example, a thermocouple might be used to help ensure a furnace's temperature remains constant. For this reason, instrumentation engineering is often viewed as the counterpart of control engineering.[4]\n",
      "\n",
      "Computer engineering deals with the design of computers and computer systems. This may involve the design of new computer hardware, the design of PDAs or the use of computers to control an industrial plant. Development of embedded systems—systems made for specific tasks (e.g., mobile phones)—is also included in this field. This field includes the microcontroller and its applications. Computer engineers may also work on a system's software. However, the design of complex software systems is often the domain of software engineering which falls under computer science, which is usually considered a separate discipline.\n",
      "\n",
      "VLSI design engineering VLSI stands for very large-scale integration. It deals with fabrication of ICs and various electronic components. In designing an integrated circuit, electronics engineers first construct circuit schematics that specify the electrical components and describe the interconnections between them. When completed, VLSI engineers convert the schematics into actual layouts, which map the layers of various conductor and semiconductor materials needed to construct the circuit.\n",
      "You are an expert mcq maker. Given above the text, it is your job to create a quiz of 5 multiple questions for electronic engineering students in tough tone.\n",
      "Make sure to format your response like RESPONSE_JSON below and use it as guide.Ensure to make 5 MCQs\n",
      "### RESPONSE_JSON\n",
      "{\"1\": {\"mcq\": \"multiple choice question\", \"options\": {\"a\": \"choice here\", \"b\": \"choice here\", \"c\": \"choice here\", \"d\": \"choice here\"}, \"correct\": \"correct answer\"}, \"2\": {\"mcq\": \"multiple choice question\", \"options\": {\"a\": \"choice here\", \"b\": \"choice here\", \"c\": \"choice here\", \"d\": \"choice here\"}, \"correct\": \"correct answer\"}, \"3\": {\"mcq\": \"multiple choice question\", \"options\": {\"a\": \"choice here\", \"b\": \"choice here\", \"c\": \"choice here\", \"d\": \"choice here\"}, \"correct\": \"correct answer\"}}\n",
      "\n",
      "\u001b[0m\n",
      "\n",
      "\u001b[1m> Finished chain.\u001b[0m\n",
      "\n",
      "\n",
      "\u001b[1m> Entering new LLMChain chain...\u001b[0m\n",
      "Prompt after formatting:\n",
      "\u001b[32;1m\u001b[1;3m\n",
      "You are an expert grammerian and writer. Given a multiple choice question for electronic engineering students.you need to evaluate the complexicity of the question and give a complete analysis of the quiz. only use at max 50 words for complexicity\n",
      "if the quiz is not at par with the cognitive and analytical abilities of the student,update the quiz questions which needs to be changed and the change the tone such that it perfectly fit the students ability.Quiz_MCQs:\n",
      "```json\n",
      "{\n",
      "  \"1\": {\n",
      "    \"mcq\": \"A critical design consideration for transmitters, directly impacting signal strength and susceptibility to noise, is:\",\n",
      "    \"options\": {\n",
      "      \"a\": \"Modulation type\",\n",
      "      \"b\": \"Carrier wave frequency\", \n",
      "      \"c\": \"Power consumption\",\n",
      "      \"d\": \"Antenna size\"\n",
      "    },\n",
      "    \"correct\": \"c\" \n",
      "  },\n",
      "  \"2\": {\n",
      "    \"mcq\": \"Which statement regarding instrumentation engineering is MOST accurate?\",\n",
      "    \"options\": {\n",
      "      \"a\": \"It primarily focuses on theoretical physics principles.\",\n",
      "      \"b\": \"It designs devices exclusively for standalone measurement tasks.\",\n",
      "      \"c\": \"It often utilizes principles like the Doppler effect for measurement.\", \n",
      "      \"d\": \"It has minimal overlap with control engineering concepts.\"\n",
      "    },\n",
      "    \"correct\": \"c\" \n",
      "  },\n",
      "  \"3\": {\n",
      "    \"mcq\": \"The evolution of electronics engineering was significantly propelled by the invention of the:\",\n",
      "    \"options\": {\n",
      "      \"a\": \"Capacitor\",\n",
      "      \"b\": \"Resistor\",\n",
      "      \"c\": \"Transistor\", \n",
      "      \"d\": \"Mechanical switch\"\n",
      "    },\n",
      "    \"correct\": \"c\" \n",
      "  },\n",
      "  \"4\": {\n",
      "    \"mcq\": \"VLSI design engineers primarily work with which stage of integrated circuit development?\",\n",
      "    \"options\": {\n",
      "      \"a\": \"Testing and debugging fabricated ICs\",\n",
      "      \"b\": \"Defining the initial functional requirements\",\n",
      "      \"c\": \"Converting circuit schematics into physical layouts\", \n",
      "      \"d\": \"Developing software for the target integrated circuit\" \n",
      "    },\n",
      "    \"correct\": \"c\" \n",
      "  },\n",
      "  \"5\": {\n",
      "    \"mcq\": \"Which organization sets global standards applicable to electronics engineering, ensuring uniformity and safety?\",\n",
      "    \"options\": {\n",
      "      \"a\": \"IEEE\", \n",
      "      \"b\": \"IET\",\n",
      "      \"c\": \"IEC\", \n",
      "      \"d\": \"None of the above\"\n",
      "    },\n",
      "    \"correct\": \"c\" \n",
      "  }\n",
      "}\n",
      "```\n",
      "\n",
      "Check from an expert English writer of the above quiz:\n",
      "\u001b[0m\n",
      "\n",
      "\u001b[1m> Finished chain.\u001b[0m\n",
      "\n",
      "\u001b[1m> Finished chain.\u001b[0m\n"
     ]
    }
   ],
   "source": [
    "response = generate_evaluate_chain(\n",
    "    {\n",
    "        \"text\": TEXT,\n",
    "        \"number\": NUMBER,\n",
    "        \"subject\": SUBJECT,\n",
    "        \"tone\": TONE,\n",
    "        \"response_json\": json.dumps(RESPONSE_JSON)\n",
    "    }\n",
    ")"
   ]
  },
  {
   "cell_type": "code",
   "execution_count": 39,
   "metadata": {},
   "outputs": [
    {
     "data": {
      "text/plain": [
       "{'text': 'The term machine learning was coined in 1959 by Arthur Samuel, an IBM employee and pioneer in the field of computer gaming and artificial intelligence.[8][9] The synonym self-teaching computers was also used in this time period.[10][11]\\n\\nAlthough the earliest machine learning model was introduced in the 1950s when Arthur Samuel invented a program that calculated the winning chance in checkers for each side, the history of machine learning roots back to decades of human desire and effort to study human cognitive processes.[12] In 1949, Canadian psychologist Donald Hebb published the book The Organization of Behavior, in which he introduced a theoretical neural structure formed by certain interactions among nerve cells.[13] Hebb\\'s model of neurons interacting with one another set a groundwork for how AIs and machine learning algorithms work under nodes, or artificial neurons used by computers to communicate data.[12] Other researchers who have studied human cognitive systems contributed to the modern machine learning technologies as well, including logician Walter Pitts and Warren McCulloch, who proposed the early mathematical models of neural networks to come up with algorithms that mirror human thought processes.[12]\\n\\nBy the early 1960s an experimental \"learning machine\" with punched tape memory, called Cybertron, had been developed by Raytheon Company to analyze sonar signals, electrocardiograms, and speech patterns using rudimentary reinforcement learning. It was repetitively \"trained\" by a human operator/teacher to recognize patterns and equipped with a \"goof\" button to cause it to reevaluate incorrect decisions.[14] A representative book on research into machine learning during the 1960s was Nilsson\\'s book on Learning Machines, dealing mostly with machine learning for pattern classification.[15] Interest related to pattern recognition continued into the 1970s, as described by Duda and Hart in 1973.[16] In 1981 a report was given on using teaching strategies so that an artificial neural network learns to recognize 40 characters (26 letters, 10 digits, and 4 special symbols) from a computer terminal.[17]\\n\\nTom M. Mitchell provided a widely quoted, more formal definition of the algorithms studied in the machine learning field: \"A computer program is said to learn from experience E with respect to some class of tasks T and performance measure P if its performance at tasks in T, as measured by P, improves with experience E.\"[18] This definition of the tasks in which machine learning is concerned offers a fundamentally operational definition rather than defining the field in cognitive terms. This follows Alan Turing\\'s proposal in his paper \"Computing Machinery and Intelligence\", in which the question \"Can machines think?\" is replaced with the question \"Can machines do what we (as thinking entities) can do?\".[19]\\n\\nModern-day machine learning has two objectives. One is to classify data based on models which have been developed; the other purpose is to make predictions for future outcomes based on these models. A hypothetical algorithm specific to classifying data may use computer vision of moles coupled with supervised learning in order to train it to classify the cancerous moles. A machine learning algorithm for stock trading may inform the trader of future potential predictions.[20]\\n\\n\\n\\n\\nElectronic engineering is a sub-discipline of electrical engineering that emerged in the early 20th century and is distinguished by the additional use of active components such as semiconductor devices to amplify and control electric current flow. Previously electrical engineering only used passive devices such as mechanical switches, resistors, inductors, and capacitors.\\n\\nIt covers fields such as analog electronics, digital electronics, consumer electronics, embedded systems and power electronics. It is also involved in many related fields, for example solid-state physics, radio engineering, telecommunications, control systems, signal processing, systems engineering, computer engineering, instrumentation engineering, electric power control, photonics and robotics.\\n\\nThe Institute of Electrical and Electronics Engineers (IEEE) is one of the most important professional bodies for electronics engineers in the US; the equivalent body in the UK is the Institution of Engineering and Technology (IET). The International Electrotechnical Commission (IEC) publishes electrical standards including those for electronics engineering.\\n\\nHistory and development\\nMain article: History of electronic engineering\\nMain article: Electronics\\nElectronics engineering as a profession emerged following the identification of the electron in 1897 and the subsequent invention of the vacuum tube which could amplify and rectify small electrical signals, that inaugurated the field of electronics.[1] Practical applications started with the invention of the diode by Ambrose Fleming and the triode by Lee De Forest in the early 1900s, which made the detection of small electrical voltages such as radio signals from a radio antenna possible with a non-mechanical device. The growth of electronics was rapid. By the early 1920s, commercial radio broadcasting and communications were becoming widespread and electronic amplifiers were being used in such diverse applications as long-distance telephony and the music recording industry.\\n\\nThe discipline was further enhanced by the large amount of electronic systems development during World War II in such as radar and sonar, and the subsequent peace-time consumer revolution following the invention of transistor by William Shockley, John Bardeen and Walter Brattain.\\n\\nSpecialist areas\\nElectronics engineering has many subfields. This section describes some of the most popular.\\n\\nElectronic signal processing deals with the analysis and manipulation of signals. Signals can be either analog, in which case the signal varies continuously according to the information, or digital, in which case the signal varies according to a series of discrete values representing the information.\\n\\nFor analog signals, signal processing may involve the amplification and filtering of audio signals for audio equipment and the modulation and demodulation of radio frequency signals for telecommunications. For digital signals, signal processing may involve compression, error checking and error detection, and correction.\\n\\nTelecommunications engineering deals with the transmission of information across a medium such as a co-axial cable, an optical fiber, or free space. Transmissions across free space require information to be encoded in a carrier wave in order to be transmitted, this is known as modulation. Popular analog modulation techniques include amplitude modulation and frequency modulation.\\n\\nOnce the transmission characteristics of a system are determined, telecommunication engineers design the transmitters and receivers needed for such systems. These two are sometimes combined to form a two-way communication device known as a transceiver. A key consideration in the design of transmitters is their power consumption as this is closely related to their signal strength. If the signal strength of a transmitter is insufficient the signal\\'s information will be corrupted by noise.\\n\\nAviation-electronics engineering and Aviation-telecommunications engineering, are concerned with aerospace applications. Aviation-telecommunication engineers include specialists who work on airborne avionics in the aircraft or ground equipment. Specialists in this field mainly need knowledge of computer, networking, IT, and sensors. These courses are offered at such as Civil Aviation Technology Colleges.[2][3]\\n\\nControl engineering has a wide range of electronic applications from the flight and propulsion systems of commercial airplanes to the cruise control present in many modern cars. It also plays an important role in industrial automation. Control engineers often use feedback when designing control systems.\\n\\nInstrumentation engineering deals with the design of devices to measure physical quantities such as pressure, flow, and temperature.The design of such instrumentation requires a good understanding of electronics engineering and physics; for example, radar guns use the Doppler effect to measure the speed of oncoming vehicles. Similarly, thermocouples use the Peltier–Seebeck effect to measure the temperature difference between two points.\\n\\nOften instrumentation is not used by itself, but instead as the sensors of larger electrical systems. For example, a thermocouple might be used to help ensure a furnace\\'s temperature remains constant. For this reason, instrumentation engineering is often viewed as the counterpart of control engineering.[4]\\n\\nComputer engineering deals with the design of computers and computer systems. This may involve the design of new computer hardware, the design of PDAs or the use of computers to control an industrial plant. Development of embedded systems—systems made for specific tasks (e.g., mobile phones)—is also included in this field. This field includes the microcontroller and its applications. Computer engineers may also work on a system\\'s software. However, the design of complex software systems is often the domain of software engineering which falls under computer science, which is usually considered a separate discipline.\\n\\nVLSI design engineering VLSI stands for very large-scale integration. It deals with fabrication of ICs and various electronic components. In designing an integrated circuit, electronics engineers first construct circuit schematics that specify the electrical components and describe the interconnections between them. When completed, VLSI engineers convert the schematics into actual layouts, which map the layers of various conductor and semiconductor materials needed to construct the circuit.',\n",
       " 'number': 5,\n",
       " 'subject': 'electronic engineering',\n",
       " 'tone': 'tough',\n",
       " 'response_json': '{\"1\": {\"mcq\": \"multiple choice question\", \"options\": {\"a\": \"choice here\", \"b\": \"choice here\", \"c\": \"choice here\", \"d\": \"choice here\"}, \"correct\": \"correct answer\"}, \"2\": {\"mcq\": \"multiple choice question\", \"options\": {\"a\": \"choice here\", \"b\": \"choice here\", \"c\": \"choice here\", \"d\": \"choice here\"}, \"correct\": \"correct answer\"}, \"3\": {\"mcq\": \"multiple choice question\", \"options\": {\"a\": \"choice here\", \"b\": \"choice here\", \"c\": \"choice here\", \"d\": \"choice here\"}, \"correct\": \"correct answer\"}}',\n",
       " 'quiz': '```json\\n{\\n  \"1\": {\\n    \"mcq\": \"A critical design consideration for transmitters, directly impacting signal strength and susceptibility to noise, is:\",\\n    \"options\": {\\n      \"a\": \"Modulation type\",\\n      \"b\": \"Carrier wave frequency\", \\n      \"c\": \"Power consumption\",\\n      \"d\": \"Antenna size\"\\n    },\\n    \"correct\": \"c\" \\n  },\\n  \"2\": {\\n    \"mcq\": \"Which statement regarding instrumentation engineering is MOST accurate?\",\\n    \"options\": {\\n      \"a\": \"It primarily focuses on theoretical physics principles.\",\\n      \"b\": \"It designs devices exclusively for standalone measurement tasks.\",\\n      \"c\": \"It often utilizes principles like the Doppler effect for measurement.\", \\n      \"d\": \"It has minimal overlap with control engineering concepts.\"\\n    },\\n    \"correct\": \"c\" \\n  },\\n  \"3\": {\\n    \"mcq\": \"The evolution of electronics engineering was significantly propelled by the invention of the:\",\\n    \"options\": {\\n      \"a\": \"Capacitor\",\\n      \"b\": \"Resistor\",\\n      \"c\": \"Transistor\", \\n      \"d\": \"Mechanical switch\"\\n    },\\n    \"correct\": \"c\" \\n  },\\n  \"4\": {\\n    \"mcq\": \"VLSI design engineers primarily work with which stage of integrated circuit development?\",\\n    \"options\": {\\n      \"a\": \"Testing and debugging fabricated ICs\",\\n      \"b\": \"Defining the initial functional requirements\",\\n      \"c\": \"Converting circuit schematics into physical layouts\", \\n      \"d\": \"Developing software for the target integrated circuit\" \\n    },\\n    \"correct\": \"c\" \\n  },\\n  \"5\": {\\n    \"mcq\": \"Which organization sets global standards applicable to electronics engineering, ensuring uniformity and safety?\",\\n    \"options\": {\\n      \"a\": \"IEEE\", \\n      \"b\": \"IET\",\\n      \"c\": \"IEC\", \\n      \"d\": \"None of the above\"\\n    },\\n    \"correct\": \"c\" \\n  }\\n}\\n```',\n",
       " 'review': '## Quiz Complexity:\\n\\nThe quiz demonstrates appropriate complexity for electronics engineering students, utilizing field-specific terminology and concepts. \\n\\n## Quiz Analysis & Improvements:\\n\\nOverall, the quiz is well-written and suitable for the target audience. However, minor improvements can enhance clarity and precision:\\n\\n**Question 1:** \\n\\n* **Issue:** While power consumption indirectly influences signal strength, it\\'s not the most direct factor. \\n* **Change:**\\n    * **MCQ:** \"A critical design consideration for transmitters **directly** impacting signal strength and susceptibility to noise is:\" \\n    * **Correct Answer:**  \"d\" (Antenna size)\\n\\n**Question 2:**\\n\\n* **Issue:** No issues, this question effectively tests understanding of instrumentation engineering.\\n\\n**Question 3:**\\n\\n* **Issue:** While all options played a role, the transistor\\'s impact on electronics evolution is unparalleled. \\n* **Change:**  (For enhanced emphasis)\\n    * **MCQ:** \"The evolution of electronics engineering was **most dramatically** propelled by the invention of the:\"\\n\\n**Question 4 & 5:**\\n\\n* **Issue:** No issues, these questions are clear and test relevant knowledge. \\n'}"
      ]
     },
     "execution_count": 39,
     "metadata": {},
     "output_type": "execute_result"
    }
   ],
   "source": [
    "response"
   ]
  },
  {
   "cell_type": "code",
   "execution_count": 40,
   "metadata": {},
   "outputs": [
    {
     "name": "stdout",
     "output_type": "stream",
     "text": [
      "<class 'dict'>\n"
     ]
    }
   ],
   "source": [
    "print(type(response))"
   ]
  },
  {
   "cell_type": "code",
   "execution_count": 41,
   "metadata": {},
   "outputs": [],
   "source": [
    "quiz = response.get(\"quiz\")"
   ]
  },
  {
   "cell_type": "code",
   "execution_count": 42,
   "metadata": {},
   "outputs": [],
   "source": [
    "quiz_string = quiz.replace(\"```json\", \"\").replace(\"```\", \"\").strip()"
   ]
  },
  {
   "cell_type": "code",
   "execution_count": 43,
   "metadata": {},
   "outputs": [
    {
     "name": "stdout",
     "output_type": "stream",
     "text": [
      "{\n",
      "  \"1\": {\n",
      "    \"mcq\": \"A critical design consideration for transmitters, directly impacting signal strength and susceptibility to noise, is:\",\n",
      "    \"options\": {\n",
      "      \"a\": \"Modulation type\",\n",
      "      \"b\": \"Carrier wave frequency\", \n",
      "      \"c\": \"Power consumption\",\n",
      "      \"d\": \"Antenna size\"\n",
      "    },\n",
      "    \"correct\": \"c\" \n",
      "  },\n",
      "  \"2\": {\n",
      "    \"mcq\": \"Which statement regarding instrumentation engineering is MOST accurate?\",\n",
      "    \"options\": {\n",
      "      \"a\": \"It primarily focuses on theoretical physics principles.\",\n",
      "      \"b\": \"It designs devices exclusively for standalone measurement tasks.\",\n",
      "      \"c\": \"It often utilizes principles like the Doppler effect for measurement.\", \n",
      "      \"d\": \"It has minimal overlap with control engineering concepts.\"\n",
      "    },\n",
      "    \"correct\": \"c\" \n",
      "  },\n",
      "  \"3\": {\n",
      "    \"mcq\": \"The evolution of electronics engineering was significantly propelled by the invention of the:\",\n",
      "    \"options\": {\n",
      "      \"a\": \"Capacitor\",\n",
      "      \"b\": \"Resistor\",\n",
      "      \"c\": \"Transistor\", \n",
      "      \"d\": \"Mechanical switch\"\n",
      "    },\n",
      "    \"correct\": \"c\" \n",
      "  },\n",
      "  \"4\": {\n",
      "    \"mcq\": \"VLSI design engineers primarily work with which stage of integrated circuit development?\",\n",
      "    \"options\": {\n",
      "      \"a\": \"Testing and debugging fabricated ICs\",\n",
      "      \"b\": \"Defining the initial functional requirements\",\n",
      "      \"c\": \"Converting circuit schematics into physical layouts\", \n",
      "      \"d\": \"Developing software for the target integrated circuit\" \n",
      "    },\n",
      "    \"correct\": \"c\" \n",
      "  },\n",
      "  \"5\": {\n",
      "    \"mcq\": \"Which organization sets global standards applicable to electronics engineering, ensuring uniformity and safety?\",\n",
      "    \"options\": {\n",
      "      \"a\": \"IEEE\", \n",
      "      \"b\": \"IET\",\n",
      "      \"c\": \"IEC\", \n",
      "      \"d\": \"None of the above\"\n",
      "    },\n",
      "    \"correct\": \"c\" \n",
      "  }\n",
      "}\n"
     ]
    }
   ],
   "source": [
    "print(quiz_string)"
   ]
  },
  {
   "cell_type": "code",
   "execution_count": 44,
   "metadata": {},
   "outputs": [],
   "source": [
    "quiz = json.loads(quiz_string)"
   ]
  },
  {
   "cell_type": "code",
   "execution_count": 45,
   "metadata": {},
   "outputs": [
    {
     "name": "stdout",
     "output_type": "stream",
     "text": [
      "Number of items in quiz_table_data: 5\n"
     ]
    }
   ],
   "source": [
    "quiz_table_data = []\n",
    "for key, value in quiz.items():\n",
    "    mcq = value[\"mcq\"]\n",
    "    options = \" | \".join(\n",
    "        [\n",
    "            f\"{option}: {option_value}\"\n",
    "            for option, option_value in value[\"options\"].items()\n",
    "            ]\n",
    "    )\n",
    "    correct = value[\"correct\"]\n",
    "    quiz_table_data.append({\"MCQ\": mcq, \"Choices\": options, \"Correct\": correct})\n",
    "\n",
    "print(f\"Number of items in quiz_table_data: {len(quiz_table_data)}\")"
   ]
  },
  {
   "cell_type": "code",
   "execution_count": 46,
   "metadata": {},
   "outputs": [
    {
     "data": {
      "text/plain": [
       "[{'MCQ': 'A critical design consideration for transmitters, directly impacting signal strength and susceptibility to noise, is:',\n",
       "  'Choices': 'a: Modulation type | b: Carrier wave frequency | c: Power consumption | d: Antenna size',\n",
       "  'Correct': 'c'},\n",
       " {'MCQ': 'Which statement regarding instrumentation engineering is MOST accurate?',\n",
       "  'Choices': 'a: It primarily focuses on theoretical physics principles. | b: It designs devices exclusively for standalone measurement tasks. | c: It often utilizes principles like the Doppler effect for measurement. | d: It has minimal overlap with control engineering concepts.',\n",
       "  'Correct': 'c'},\n",
       " {'MCQ': 'The evolution of electronics engineering was significantly propelled by the invention of the:',\n",
       "  'Choices': 'a: Capacitor | b: Resistor | c: Transistor | d: Mechanical switch',\n",
       "  'Correct': 'c'},\n",
       " {'MCQ': 'VLSI design engineers primarily work with which stage of integrated circuit development?',\n",
       "  'Choices': 'a: Testing and debugging fabricated ICs | b: Defining the initial functional requirements | c: Converting circuit schematics into physical layouts | d: Developing software for the target integrated circuit',\n",
       "  'Correct': 'c'},\n",
       " {'MCQ': 'Which organization sets global standards applicable to electronics engineering, ensuring uniformity and safety?',\n",
       "  'Choices': 'a: IEEE | b: IET | c: IEC | d: None of the above',\n",
       "  'Correct': 'c'}]"
      ]
     },
     "execution_count": 46,
     "metadata": {},
     "output_type": "execute_result"
    }
   ],
   "source": [
    "quiz_table_data"
   ]
  },
  {
   "cell_type": "code",
   "execution_count": 47,
   "metadata": {},
   "outputs": [],
   "source": [
    "quiz = pd.DataFrame(quiz_table_data)"
   ]
  },
  {
   "cell_type": "code",
   "execution_count": 48,
   "metadata": {},
   "outputs": [],
   "source": [
    "quiz.to_csv(\"electronics.csv\",index= False)"
   ]
  },
  {
   "cell_type": "code",
   "execution_count": null,
   "metadata": {},
   "outputs": [],
   "source": []
  }
 ],
 "metadata": {
  "kernelspec": {
   "display_name": "Python 3",
   "language": "python",
   "name": "python3"
  },
  "language_info": {
   "codemirror_mode": {
    "name": "ipython",
    "version": 3
   },
   "file_extension": ".py",
   "mimetype": "text/x-python",
   "name": "python",
   "nbconvert_exporter": "python",
   "pygments_lexer": "ipython3",
   "version": "3.10.14"
  }
 },
 "nbformat": 4,
 "nbformat_minor": 2
}
